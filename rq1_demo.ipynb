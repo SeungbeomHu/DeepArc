{
 "cells": [
  {
   "cell_type": "markdown",
   "metadata": {},
   "source": [
    "# How likely a neural network can be modularized? Under what circumstance can and cannot the modularization disappear?"
   ]
  },
  {
   "cell_type": "markdown",
   "metadata": {},
   "source": [
    "With a total of 125 (5\\*5\\*5) configurations, we train each configuration(model) (i.e., architecture-dataset-task combination) 10 times. There will be 1250(125\\*10) models.\n",
    "Because we will take 10 values as the threshold, we can calculate 12500(1250\\*10) times in total.\n",
    "We save the final result to the ans.pkl file."
   ]
  },
  {
   "cell_type": "markdown",
   "metadata": {},
   "source": [
    "See ./train for the training code"
   ]
  },
  {
   "cell_type": "code",
   "execution_count": 6,
   "metadata": {
    "ExecuteTime": {
     "end_time": "2023-10-25T04:35:59.716187Z",
     "start_time": "2023-10-25T04:35:59.710685Z"
    }
   },
   "outputs": [
    {
     "name": "stdout",
     "output_type": "stream",
     "text": [
      "     z5        z6\n",
      "0  0.99  0.071429\n",
      "1  0.98  0.535714\n",
      "2  0.97  0.714286\n",
      "3  0.96  0.821429\n",
      "4  0.95  0.857143\n",
      "5  0.94  0.928571\n",
      "6  0.93  0.928571\n",
      "7  0.92  0.928571\n",
      "8  0.91  1.000000\n",
      "9  0.90  1.000000\n"
     ]
    }
   ],
   "source": [
    "import pandas as pd\n",
    "import numpy as np\n",
    "data = pd.read_pickle('train/ans.pkl')\n",
    "print(data)"
   ]
  },
  {
   "cell_type": "code",
   "execution_count": null,
   "outputs": [],
   "source": [],
   "metadata": {
    "collapsed": false
   }
  }
 ],
 "metadata": {
  "kernelspec": {
   "display_name": "Python 3.7.11 ('torch190')",
   "language": "python",
   "name": "python3"
  },
  "language_info": {
   "codemirror_mode": {
    "name": "ipython",
    "version": 3
   },
   "file_extension": ".py",
   "mimetype": "text/x-python",
   "name": "python",
   "nbconvert_exporter": "python",
   "pygments_lexer": "ipython3",
   "version": "3.7.11"
  },
  "orig_nbformat": 4,
  "vscode": {
   "interpreter": {
    "hash": "85e72365a6a674c59f1f5a17a288d8cbe5c805e4f9e287def85e60ca615a05d7"
   }
  }
 },
 "nbformat": 4,
 "nbformat_minor": 2
}
